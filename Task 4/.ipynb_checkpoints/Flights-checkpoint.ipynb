{
 "cells": [
  {
   "cell_type": "code",
   "execution_count": 1,
   "metadata": {},
   "outputs": [
    {
     "name": "stdout",
     "output_type": "stream",
     "text": [
      "{\n",
      "  \"Places\" : [ {\n",
      "    \"PlaceId\" : \"STOC-sky\",\n",
      "    \"PlaceName\" : \"Stockholm\",\n",
      "    \"CountryId\" : \"SE-sky\",\n",
      "    \"RegionId\" : \"\",\n",
      "    \"CityId\" : \"STOC-sky\",\n",
      "    \"CountryName\" : \"Sweden\"\n",
      "  }, {\n",
      "    \"PlaceId\" : \"ARN-sky\",\n",
      "    \"PlaceName\" : \"Stockholm Arlanda\",\n",
      "    \"CountryId\" : \"SE-sky\",\n",
      "    \"RegionId\" : \"\",\n",
      "    \"CityId\" : \"STOC-sky\",\n",
      "    \"CountryName\" : \"Sweden\"\n",
      "  }, {\n",
      "    \"PlaceId\" : \"NYO-sky\",\n",
      "    \"PlaceName\" : \"Stockholm Skavsta\",\n",
      "    \"CountryId\" : \"SE-sky\",\n",
      "    \"RegionId\" : \"\",\n",
      "    \"CityId\" : \"STOC-sky\",\n",
      "    \"CountryName\" : \"Sweden\"\n",
      "  }, {\n",
      "    \"PlaceId\" : \"BMA-sky\",\n",
      "    \"PlaceName\" : \"Stockholm Bromma\",\n",
      "    \"CountryId\" : \"SE-sky\",\n",
      "    \"RegionId\" : \"\",\n",
      "    \"CityId\" : \"STOC-sky\",\n",
      "    \"CountryName\" : \"Sweden\"\n",
      "  }, {\n",
      "    \"PlaceId\" : \"VST-sky\",\n",
      "    \"PlaceName\" : \"Stockholm Vasteras\",\n",
      "    \"CountryId\" : \"SE-sky\",\n",
      "    \"RegionId\" : \"\",\n",
      "    \"CityId\" : \"STOC-sky\",\n",
      "    \"CountryName\" : \"Sweden\"\n",
      "  } ]\n",
      "}\n"
     ]
    }
   ],
   "source": [
    "import http.client\n",
    "\n",
    "conn = http.client.HTTPSConnection(\"skyscanner-skyscanner-flight-search-v1.p.rapidapi.com\")\n",
    "\n",
    "headers = {\n",
    "    'x-rapidapi-host': \"skyscanner-skyscanner-flight-search-v1.p.rapidapi.com\",\n",
    "    'x-rapidapi-key': \"ebc76fe742msh1d14172d6b70c64p186205jsnf13fc9939823\"\n",
    "    }\n",
    "\n",
    "conn.request(\"GET\", \"/apiservices/autosuggest/v1.0/UK/GBP/en-GB/?query=Stockholm\", headers=headers)\n",
    "\n",
    "res = conn.getresponse()\n",
    "res.headers[\"destinationPlace\"] = \"LHR-sky\"\n",
    "res.headers[\"originPlace\"] = \"SFO-sky\"\n",
    "\n",
    "data = res.read()\n",
    "data_decode = data.decode(\"utf-8\")\n",
    "\n",
    "print(data_decode)\n"
   ]
  },
  {
   "cell_type": "markdown",
   "metadata": {},
   "source": [
    "# Check Headers "
   ]
  },
  {
   "cell_type": "code",
   "execution_count": 2,
   "metadata": {},
   "outputs": [
    {
     "name": "stdout",
     "output_type": "stream",
     "text": [
      "Content-Type: application/json\n",
      "Date: Tue, 12 Oct 2021 11:30:34 GMT\n",
      "Server: RapidAPI-1.2.8\n",
      "Vary: Accept-Encoding\n",
      "Via: 1.1 998b911809b5181544e60111e0bda762.cloudfront.net (CloudFront)\n",
      "X-Amz-Cf-Id: JVqOnGQYo4hAoiKBj6in5sJfw_oeVRveqyp8RjRuIrt8jV1qNPk0lw==\n",
      "X-Amz-Cf-Pop: SIN2-C1\n",
      "X-Cache: Miss from cloudfront\n",
      "X-Envoy-Upstream-Service-Time: 139\n",
      "X-From-Function: test\n",
      "X-RapidAPI-Region: AWS - ap-southeast-1\n",
      "X-RapidAPI-Version: 1.2.8\n",
      "Content-Length: 902\n",
      "Connection: keep-alive\n",
      "destinationPlace: LHR-sky\n",
      "originPlace: SFO-sky\n",
      "\n",
      "\n"
     ]
    }
   ],
   "source": [
    "print(res.headers)"
   ]
  },
  {
   "cell_type": "markdown",
   "metadata": {},
   "source": [
    "# parsed reason"
   ]
  },
  {
   "cell_type": "code",
   "execution_count": 3,
   "metadata": {},
   "outputs": [
    {
     "name": "stdout",
     "output_type": "stream",
     "text": [
      "OK\n"
     ]
    }
   ],
   "source": [
    "print(res.reason)"
   ]
  },
  {
   "cell_type": "markdown",
   "metadata": {},
   "source": [
    "# Python Snippet Code of Unirest "
   ]
  },
  {
   "cell_type": "code",
   "execution_count": 4,
   "metadata": {},
   "outputs": [
    {
     "name": "stdout",
     "output_type": "stream",
     "text": [
      "{\n",
      "  \"Places\" : [ {\n",
      "    \"PlaceId\" : \"STOC-sky\",\n",
      "    \"PlaceName\" : \"Stockholm\",\n",
      "    \"CountryId\" : \"SE-sky\",\n",
      "    \"RegionId\" : \"\",\n",
      "    \"CityId\" : \"STOC-sky\",\n",
      "    \"CountryName\" : \"Sweden\"\n",
      "  }, {\n",
      "    \"PlaceId\" : \"ARN-sky\",\n",
      "    \"PlaceName\" : \"Stockholm Arlanda\",\n",
      "    \"CountryId\" : \"SE-sky\",\n",
      "    \"RegionId\" : \"\",\n",
      "    \"CityId\" : \"STOC-sky\",\n",
      "    \"CountryName\" : \"Sweden\"\n",
      "  }, {\n",
      "    \"PlaceId\" : \"NYO-sky\",\n",
      "    \"PlaceName\" : \"Stockholm Skavsta\",\n",
      "    \"CountryId\" : \"SE-sky\",\n",
      "    \"RegionId\" : \"\",\n",
      "    \"CityId\" : \"STOC-sky\",\n",
      "    \"CountryName\" : \"Sweden\"\n",
      "  }, {\n",
      "    \"PlaceId\" : \"BMA-sky\",\n",
      "    \"PlaceName\" : \"Stockholm Bromma\",\n",
      "    \"CountryId\" : \"SE-sky\",\n",
      "    \"RegionId\" : \"\",\n",
      "    \"CityId\" : \"STOC-sky\",\n",
      "    \"CountryName\" : \"Sweden\"\n",
      "  }, {\n",
      "    \"PlaceId\" : \"VST-sky\",\n",
      "    \"PlaceName\" : \"Stockholm Vasteras\",\n",
      "    \"CountryId\" : \"SE-sky\",\n",
      "    \"RegionId\" : \"\",\n",
      "    \"CityId\" : \"STOC-sky\",\n",
      "    \"CountryName\" : \"Sweden\"\n",
      "  } ]\n",
      "}\n"
     ]
    }
   ],
   "source": [
    "import http.client\n",
    "conn = http.client.HTTPSConnection(\"skyscanner-skyscanner-flight-search-v1.p.rapidapi.com\")\n",
    "\n",
    "headers = {\n",
    "    'x-rapidapi-host': \"skyscanner-skyscanner-flight-search-v1.p.rapidapi.com\",\n",
    "    'x-rapidapi-key': \"ebc76fe742msh1d14172d6b70c64p186205jsnf13fc9939823\"\n",
    "    }\n",
    "params={\n",
    "    \"inboundDate\": \"2019-09-10\",\n",
    "    \"cabinClass\": \"business\",\n",
    "    \"children\": 0,\n",
    "    \"infants\": 0,\n",
    "    \"country\": \"US\",\n",
    "    \"currency\": \"USD\",\n",
    "    \"locale\": \"en-US\",\n",
    "    \"originPlace\": \"SFO-sky\",\n",
    "    \"destinationPlace\": \"LHR-sky\",\n",
    "    \"outboundDate\": \"2019-09-01\",\n",
    "    \"adults\": 1\n",
    "  }\n",
    "conn.request(\"GET\", \"/apiservices/autosuggest/v1.0/UK/GBP/en-GB/?query=Stockholm\",headers=headers)\n",
    "res = conn.getresponse()\n",
    "data = res.read()\n",
    "print(data.decode(\"utf-8\"))"
   ]
  },
  {
   "cell_type": "markdown",
   "metadata": {},
   "source": [
    "# Import Requests "
   ]
  },
  {
   "cell_type": "code",
   "execution_count": 5,
   "metadata": {},
   "outputs": [
    {
     "name": "stdout",
     "output_type": "stream",
     "text": [
      "{\n",
      "  \"Places\" : [ {\n",
      "    \"PlaceId\" : \"STOC-sky\",\n",
      "    \"PlaceName\" : \"Stockholm\",\n",
      "    \"CountryId\" : \"SE-sky\",\n",
      "    \"RegionId\" : \"\",\n",
      "    \"CityId\" : \"STOC-sky\",\n",
      "    \"CountryName\" : \"Sweden\"\n",
      "  }, {\n",
      "    \"PlaceId\" : \"ARN-sky\",\n",
      "    \"PlaceName\" : \"Stockholm Arlanda\",\n",
      "    \"CountryId\" : \"SE-sky\",\n",
      "    \"RegionId\" : \"\",\n",
      "    \"CityId\" : \"STOC-sky\",\n",
      "    \"CountryName\" : \"Sweden\"\n",
      "  }, {\n",
      "    \"PlaceId\" : \"NYO-sky\",\n",
      "    \"PlaceName\" : \"Stockholm Skavsta\",\n",
      "    \"CountryId\" : \"SE-sky\",\n",
      "    \"RegionId\" : \"\",\n",
      "    \"CityId\" : \"STOC-sky\",\n",
      "    \"CountryName\" : \"Sweden\"\n",
      "  }, {\n",
      "    \"PlaceId\" : \"BMA-sky\",\n",
      "    \"PlaceName\" : \"Stockholm Bromma\",\n",
      "    \"CountryId\" : \"SE-sky\",\n",
      "    \"RegionId\" : \"\",\n",
      "    \"CityId\" : \"STOC-sky\",\n",
      "    \"CountryName\" : \"Sweden\"\n",
      "  }, {\n",
      "    \"PlaceId\" : \"VST-sky\",\n",
      "    \"PlaceName\" : \"Stockholm Vasteras\",\n",
      "    \"CountryId\" : \"SE-sky\",\n",
      "    \"RegionId\" : \"\",\n",
      "    \"CityId\" : \"STOC-sky\",\n",
      "    \"CountryName\" : \"Sweden\"\n",
      "  } ]\n",
      "}\n"
     ]
    }
   ],
   "source": [
    "import requests\n",
    "\n",
    "url = \"https://skyscanner-skyscanner-flight-search-v1.p.rapidapi.com/apiservices/autosuggest/v1.0/UK/USD/en-GB/\"\n",
    "\n",
    "querystring = {\"query\":\"Stockholm\"}\n",
    "\n",
    "headers = {\n",
    "    'x-rapidapi-host': \"skyscanner-skyscanner-flight-search-v1.p.rapidapi.com\",\n",
    "    'x-rapidapi-key': \"ebc76fe742msh1d14172d6b70c64p186205jsnf13fc9939823\"\n",
    "    }\n",
    "\n",
    "response = requests.request(\"GET\", url, headers=headers, params=querystring)\n",
    "\n",
    "print(response.text)\n"
   ]
  },
  {
   "cell_type": "markdown",
   "metadata": {},
   "source": [
    "# print status code"
   ]
  },
  {
   "cell_type": "code",
   "execution_count": 6,
   "metadata": {},
   "outputs": [
    {
     "name": "stdout",
     "output_type": "stream",
     "text": [
      "200\n"
     ]
    }
   ],
   "source": [
    "print(response.status_code)"
   ]
  },
  {
   "cell_type": "markdown",
   "metadata": {},
   "source": [
    "# add params "
   ]
  },
  {
   "cell_type": "code",
   "execution_count": 7,
   "metadata": {},
   "outputs": [
    {
     "name": "stdout",
     "output_type": "stream",
     "text": [
      "{\n",
      "  \"Places\" : [ {\n",
      "    \"PlaceId\" : \"STOC-sky\",\n",
      "    \"PlaceName\" : \"Stockholm\",\n",
      "    \"CountryId\" : \"SE-sky\",\n",
      "    \"RegionId\" : \"\",\n",
      "    \"CityId\" : \"STOC-sky\",\n",
      "    \"CountryName\" : \"Sweden\"\n",
      "  }, {\n",
      "    \"PlaceId\" : \"ARN-sky\",\n",
      "    \"PlaceName\" : \"Stockholm Arlanda\",\n",
      "    \"CountryId\" : \"SE-sky\",\n",
      "    \"RegionId\" : \"\",\n",
      "    \"CityId\" : \"STOC-sky\",\n",
      "    \"CountryName\" : \"Sweden\"\n",
      "  }, {\n",
      "    \"PlaceId\" : \"NYO-sky\",\n",
      "    \"PlaceName\" : \"Stockholm Skavsta\",\n",
      "    \"CountryId\" : \"SE-sky\",\n",
      "    \"RegionId\" : \"\",\n",
      "    \"CityId\" : \"STOC-sky\",\n",
      "    \"CountryName\" : \"Sweden\"\n",
      "  }, {\n",
      "    \"PlaceId\" : \"BMA-sky\",\n",
      "    \"PlaceName\" : \"Stockholm Bromma\",\n",
      "    \"CountryId\" : \"SE-sky\",\n",
      "    \"RegionId\" : \"\",\n",
      "    \"CityId\" : \"STOC-sky\",\n",
      "    \"CountryName\" : \"Sweden\"\n",
      "  }, {\n",
      "    \"PlaceId\" : \"VST-sky\",\n",
      "    \"PlaceName\" : \"Stockholm Vasteras\",\n",
      "    \"CountryId\" : \"SE-sky\",\n",
      "    \"RegionId\" : \"\",\n",
      "    \"CityId\" : \"STOC-sky\",\n",
      "    \"CountryName\" : \"Sweden\"\n",
      "  } ]\n",
      "}\n"
     ]
    }
   ],
   "source": [
    "import requests\n",
    "\n",
    "url = \"https://skyscanner-skyscanner-flight-search-v1.p.rapidapi.com/apiservices/autosuggest/v1.0/UK/USD/en-GB/\"\n",
    "\n",
    "# params={\n",
    "#     \"PlaceId\" : \"NYO-sky\",\n",
    "#     \"inboundDate\": \"2019-09-10\",\n",
    "#     \"cabinClass\": \"business\",\n",
    "#     \"children\": 0,\n",
    "#     \"infants\": 0,\n",
    "#     \"country\": \"US\",\n",
    "#     \"currency\": \"USD\",\n",
    "#     \"locale\": \"en-US\",\n",
    "#     \"originPlace\": \"SFO-sky\",\n",
    "#     \"destinationPlace\": \"LHR-sky\",\n",
    "#     \"outboundDate\": \"2019-09-01\",\n",
    "#     \"adults\": 1\n",
    "#   }\n",
    "params = {\"query\":\"Stockholm\"}\n",
    "\n",
    "headers = {\n",
    "    'x-rapidapi-host': \"skyscanner-skyscanner-flight-search-v1.p.rapidapi.com\",\n",
    "    'x-rapidapi-key': \"ebc76fe742msh1d14172d6b70c64p186205jsnf13fc9939823\"\n",
    "    }\n",
    "\n",
    "response = requests.request(\"GET\", url, headers=headers, params=params)\n",
    "print(response.text)\n",
    "\n",
    "response.headers[\"originPlace\"] = \"SFO-sky\"\n",
    "response.headers[\"destinationPlace\"] = \"LHR-sky\"\n"
   ]
  },
  {
   "cell_type": "code",
   "execution_count": 8,
   "metadata": {},
   "outputs": [
    {
     "name": "stdout",
     "output_type": "stream",
     "text": [
      "<bound method Mapping.values of {'Content-Type': 'application/json', 'Date': 'Tue, 12 Oct 2021 11:30:37 GMT', 'Server': 'RapidAPI-1.2.8', 'Vary': 'Accept-Encoding', 'Via': '1.1 57f07f5d6af70b966deb083e1354f6f8.cloudfront.net (CloudFront)', 'X-Amz-Cf-Id': 'KGUKQO4NbvbS-IanUNxxJjP0VIWYtWhFCps7GFnYMIhYO24PaCJE7Q==', 'X-Amz-Cf-Pop': 'SIN2-C1', 'X-Cache': 'Miss from cloudfront', 'X-Envoy-Upstream-Service-Time': '119', 'X-From-Function': 'test', 'X-RapidAPI-Region': 'AWS - ap-southeast-1', 'X-RapidAPI-Version': '1.2.8', 'Content-Length': '902', 'Connection': 'keep-alive', 'originPlace': 'SFO-sky', 'destinationPlace': 'LHR-sky'}>\n"
     ]
    }
   ],
   "source": [
    "print(response.headers.values)"
   ]
  },
  {
   "cell_type": "code",
   "execution_count": 9,
   "metadata": {},
   "outputs": [
    {
     "name": "stdout",
     "output_type": "stream",
     "text": [
      "<bound method Mapping.get of {'Content-Type': 'application/json', 'Date': 'Tue, 12 Oct 2021 11:30:37 GMT', 'Server': 'RapidAPI-1.2.8', 'Vary': 'Accept-Encoding', 'Via': '1.1 57f07f5d6af70b966deb083e1354f6f8.cloudfront.net (CloudFront)', 'X-Amz-Cf-Id': 'KGUKQO4NbvbS-IanUNxxJjP0VIWYtWhFCps7GFnYMIhYO24PaCJE7Q==', 'X-Amz-Cf-Pop': 'SIN2-C1', 'X-Cache': 'Miss from cloudfront', 'X-Envoy-Upstream-Service-Time': '119', 'X-From-Function': 'test', 'X-RapidAPI-Region': 'AWS - ap-southeast-1', 'X-RapidAPI-Version': '1.2.8', 'Content-Length': '902', 'Connection': 'keep-alive', 'originPlace': 'SFO-sky', 'destinationPlace': 'LHR-sky'}>\n"
     ]
    }
   ],
   "source": [
    "print(response.headers.get)"
   ]
  },
  {
   "cell_type": "code",
   "execution_count": 10,
   "metadata": {},
   "outputs": [
    {
     "name": "stdout",
     "output_type": "stream",
     "text": [
      "{'Content-Type': 'application/json', 'Date': 'Tue, 12 Oct 2021 11:30:37 GMT', 'Server': 'RapidAPI-1.2.8', 'Vary': 'Accept-Encoding', 'Via': '1.1 57f07f5d6af70b966deb083e1354f6f8.cloudfront.net (CloudFront)', 'X-Amz-Cf-Id': 'KGUKQO4NbvbS-IanUNxxJjP0VIWYtWhFCps7GFnYMIhYO24PaCJE7Q==', 'X-Amz-Cf-Pop': 'SIN2-C1', 'X-Cache': 'Miss from cloudfront', 'X-Envoy-Upstream-Service-Time': '119', 'X-From-Function': 'test', 'X-RapidAPI-Region': 'AWS - ap-southeast-1', 'X-RapidAPI-Version': '1.2.8', 'Content-Length': '902', 'Connection': 'keep-alive', 'originPlace': 'SFO-sky', 'destinationPlace': 'LHR-sky'}\n"
     ]
    }
   ],
   "source": [
    "print(response.headers)"
   ]
  },
  {
   "cell_type": "code",
   "execution_count": null,
   "metadata": {},
   "outputs": [],
   "source": []
  },
  {
   "cell_type": "code",
   "execution_count": null,
   "metadata": {},
   "outputs": [],
   "source": []
  }
 ],
 "metadata": {
  "kernelspec": {
   "display_name": "Python 3",
   "language": "python",
   "name": "python3"
  },
  "language_info": {
   "codemirror_mode": {
    "name": "ipython",
    "version": 3
   },
   "file_extension": ".py",
   "mimetype": "text/x-python",
   "name": "python",
   "nbconvert_exporter": "python",
   "pygments_lexer": "ipython3",
   "version": "3.8.5"
  }
 },
 "nbformat": 4,
 "nbformat_minor": 4
}
