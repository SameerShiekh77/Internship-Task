{
 "cells": [
  {
   "cell_type": "code",
   "execution_count": 8,
   "metadata": {},
   "outputs": [
    {
     "name": "stdout",
     "output_type": "stream",
     "text": [
      "FETCH command error: BAD [b'Could not parse command']\n"
     ]
    },
    {
     "name": "stderr",
     "output_type": "stream",
     "text": [
      "Traceback (most recent call last):\n",
      "  File \"<ipython-input-8-abe3315c396a>\", line 33, in read_email_from_gmail\n",
      "    data = mail.fetch(str(i), '(RFC822)' )\n",
      "  File \"C:\\Users\\Naveed\\anaconda3\\lib\\imaplib.py\", line 539, in fetch\n",
      "    typ, dat = self._simple_command(name, message_set, message_parts)\n",
      "  File \"C:\\Users\\Naveed\\anaconda3\\lib\\imaplib.py\", line 1205, in _simple_command\n",
      "    return self._command_complete(name, self._command(name, *args))\n",
      "  File \"C:\\Users\\Naveed\\anaconda3\\lib\\imaplib.py\", line 1030, in _command_complete\n",
      "    raise self.error('%s command error: %s %s' % (name, typ, data))\n",
      "imaplib.IMAP4.error: FETCH command error: BAD [b'Could not parse command']\n"
     ]
    }
   ],
   "source": [
    "# Python 3.8.0\n",
    "import smtplib\n",
    "import time\n",
    "import imaplib\n",
    "import email\n",
    "import traceback,html\n",
    "# -------------------------------------------------\n",
    "#\n",
    "# Utility to read email from Gmail Using Python\n",
    "#\n",
    "# ------------------------------------------------\n",
    "ORG_EMAIL = \"@gmail.com\" \n",
    "FROM_EMAIL = \"sameerakbar2000@gmail.com\"\n",
    "FROM_PWD = \"gardians12345\" \n",
    "SMTP_SERVER = \"imap.gmail.com\" \n",
    "SMTP_PORT = 8888\n",
    "\n",
    "def read_email_from_gmail():\n",
    "    try:\n",
    "        mail = imaplib.IMAP4_SSL(SMTP_SERVER)\n",
    "        mail.login(FROM_EMAIL,FROM_PWD)\n",
    "        mail.select('inbox')\n",
    "        \n",
    "        data = mail.search(None, 'ALL')\n",
    "        mail_ids = data[1]\n",
    "        id_list = mail_ids[0].split()   \n",
    "        first_email_id = int(id_list[0])\n",
    "        latest_email_id = int(id_list[-1])\n",
    "\n",
    "        for i in range(latest_email_id,first_email_id, -1):\n",
    "        \n",
    "            data = mail.fetch(str(i), '(RFC822)' )\n",
    "            for response_part in data:\n",
    "                arr = response_part[0]\n",
    "                if isinstance(arr, tuple):\n",
    "                    msg = email.message_from_string(str(arr[1],'utf-8'))\n",
    "                    email_subject = msg['subject']\n",
    "                    email_from = msg['from']\n",
    "#                     print('From : ' + email_from + '\\n')\n",
    "#                     print('Subject : ' + html.unescape(email_subject) + '\\n')\n",
    "\n",
    "    except Exception as e:\n",
    "        traceback.print_exc() \n",
    "        print(str(e))\n",
    "\n",
    "read_email_from_gmail()"
   ]
  },
  {
   "cell_type": "code",
   "execution_count": null,
   "metadata": {},
   "outputs": [],
   "source": []
  }
 ],
 "metadata": {
  "kernelspec": {
   "display_name": "Python 3",
   "language": "python",
   "name": "python3"
  },
  "language_info": {
   "codemirror_mode": {
    "name": "ipython",
    "version": 3
   },
   "file_extension": ".py",
   "mimetype": "text/x-python",
   "name": "python",
   "nbconvert_exporter": "python",
   "pygments_lexer": "ipython3",
   "version": "3.8.5"
  }
 },
 "nbformat": 4,
 "nbformat_minor": 4
}
